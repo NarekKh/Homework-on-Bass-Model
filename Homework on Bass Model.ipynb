{
 "cells": [
  {
   "cell_type": "code",
   "execution_count": 17,
   "id": "ce486c89",
   "metadata": {},
   "outputs": [
    {
     "name": "stdout",
     "output_type": "stream",
     "text": [
      "Estimated p: 0.09434698022336808\n",
      "Estimated q: 0.18641538927316256\n"
     ]
    }
   ],
   "source": [
    "import numpy as np\n",
    "from scipy.optimize import curve_fit\n",
    "\n",
    "years = np.array([2012, 2013, 2014, 2015, 2016, 2017, 2018, 2019, 2020, 2021])\n",
    "adoptions = np.array([1454133, 1624667, 1855833, 2055933, 2202000, 2946333, 3642000, 4046667, 4768000, 5216633])\n",
    "m = 6000000 \n",
    "revenue = np.array([436.24, 487.40, 556.85, 616.78, 660.60, 883.90, 1092.60, 1214.00, 1430.40, 1564.99])\n",
    "price_per_unit = revenue / adoptions\n",
    "\n",
    "def bass_model(t, p, q, m):\n",
    "    return (p + q) * m - (q/m) * (p + q) * np.exp(-(p + q) * (t - 2011))\n",
    "\n",
    "# Fit the model\n",
    "params, covariance = curve_fit(bass_model, years, adoptions, p0=(0.001, 0.1, m), method='lm')\n",
    "\n",
    "estimated_p, estimated_q, estimated_m = params\n",
    "\n",
    "print(\"Estimated p:\", estimated_p)\n",
    "print(\"Estimated q:\", estimated_q)\n"
   ]
  },
  {
   "cell_type": "code",
   "execution_count": null,
   "id": "e9db3ae3",
   "metadata": {},
   "outputs": [],
   "source": []
  }
 ],
 "metadata": {
  "kernelspec": {
   "display_name": "Python 3 (ipykernel)",
   "language": "python",
   "name": "python3"
  },
  "language_info": {
   "codemirror_mode": {
    "name": "ipython",
    "version": 3
   },
   "file_extension": ".py",
   "mimetype": "text/x-python",
   "name": "python",
   "nbconvert_exporter": "python",
   "pygments_lexer": "ipython3",
   "version": "3.9.13"
  }
 },
 "nbformat": 4,
 "nbformat_minor": 5
}
